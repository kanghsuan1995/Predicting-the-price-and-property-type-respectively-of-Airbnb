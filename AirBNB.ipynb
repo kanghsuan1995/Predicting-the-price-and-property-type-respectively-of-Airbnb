{
 "cells": [
  {
   "cell_type": "markdown",
   "metadata": {},
   "source": [
    "<h3> Midterm 2 </h3>\n",
    "<p> Exam Start - Sunday 18 9 AM, Exam End - Wednesday 21 12 PM </p>"
   ]
  },
  {
   "cell_type": "markdown",
   "metadata": {},
   "source": [
    "<p> Please read the following before attempting the exam </p>\n",
    "* You can use this notebook as a template for your exam.\n",
    "* You can use any source to answer the questions, please read through the below cells for a brief description of the dataset \n",
    "  and points split.\n",
    "* You can use any library, for example, sklearn, pandas, Scipy etc.\n",
    "* Do not plagiarize"
   ]
  },
  {
   "cell_type": "markdown",
   "metadata": {},
   "source": [
    "<h2>Note: Please make sure your variable names for dataframes are not the same to avoid assignment errors.\n",
    "\n",
    "Please make sure your notebook runs completely on Restart and Run without errors. </h2>\n"
   ]
  },
  {
   "cell_type": "markdown",
   "metadata": {},
   "source": [
    "<p>Dataset</p>\n",
    "* The data set is included in the assignment, it can also be downloaded from https://www.kaggle.com/rudymizrahi/airbnb-listings-in-major-us-cities-deloitte-ml\n",
    "* You are required to split the data into train, validation and test sets. You can use a split that is reasonable for example 70-10-20.\n",
    "\n"
   ]
  },
  {
   "cell_type": "markdown",
   "metadata": {},
   "source": [
    "<p> Question Overview </p>\n",
    "* The question has two parts:\n",
    "    * Regression problem: Predict the price of the listing, please note that the price is expressed in the log domain, for the visualizations to be easily understood you need to convert them to integer domain.\n",
    "    * The final predictions can be in the log domain.\n",
    "    * Make sure that your validation metric is reasonable i.e. For example if you are using RMSE then make sure outliers in the data (if any) are processed. This question weighs in for 60% of the test.\n",
    "    * Classification problem: Predict the property_type variable. For this problem treat property_type as your y and predict it. Please make sure you treat it as your y i.e. do not include it in your training data features. This question weighs in for 40 % of the test."
   ]
  },
  {
   "cell_type": "markdown",
   "metadata": {},
   "source": [
    "<p> Mention any notes here, for example if you are using a different library like TF of Keras in your notebook. This is a place to mention any other comments you have</p>"
   ]
  },
  {
   "cell_type": "markdown",
   "metadata": {},
   "source": [
    "<p> Template for part 1 Regression problem </p>\n"
   ]
  },
  {
   "cell_type": "code",
   "execution_count": 1,
   "metadata": {},
   "outputs": [
    {
     "name": "stderr",
     "output_type": "stream",
     "text": [
      "C:\\Users\\kangh\\Anaconda3\\lib\\site-packages\\sklearn\\cross_validation.py:41: DeprecationWarning: This module was deprecated in version 0.18 in favor of the model_selection module into which all the refactored classes and functions are moved. Also note that the interface of the new CV iterators are different from that of this module. This module will be removed in 0.20.\n",
      "  \"This module will be removed in 0.20.\", DeprecationWarning)\n"
     ]
    }
   ],
   "source": [
    "# all imports go here\n",
    "import pandas as pd\n",
    "import numpy as np\n",
    "import seaborn as sns\n",
    "import matplotlib.pyplot as plt\n",
    "from matplotlib.pyplot import hist\n",
    "from sklearn.model_selection import KFold\n",
    "from sklearn import linear_model\n",
    "from sklearn.cross_validation import train_test_split\n",
    "from sklearn.preprocessing import MinMaxScaler\n",
    "from sklearn.preprocessing import StandardScaler\n",
    "from sklearn.decomposition import PCA\n",
    "from sklearn.linear_model import Ridge\n",
    "from sklearn.model_selection import GridSearchCV\n",
    "from sklearn.linear_model import LogisticRegression\n",
    "from sklearn.metrics import classification_report\n",
    "from sklearn.metrics import confusion_matrix\n",
    "from sklearn import model_selection\n",
    "from sklearn.neighbors import KNeighborsClassifier\n",
    "from sklearn.ensemble import RandomForestRegressor\n",
    "from sklearn.svm import SVC\n",
    "from sklearn.metrics import accuracy_score\n",
    "from sklearn.feature_selection import RFE\n",
    "from sklearn.metrics import precision_recall_fscore_support"
   ]
  },
  {
   "cell_type": "markdown",
   "metadata": {},
   "source": [
    "<p> Question R - 1 (5 Points)</p>\n",
    "Import data here and make changes, i.e. impute values, remove outliers if any. \n",
    "If there are not any missing, outlier, null values points will be awarded for checking them\n"
   ]
  },
  {
   "cell_type": "code",
   "execution_count": 2,
   "metadata": {},
   "outputs": [
    {
     "data": {
      "text/html": [
       "<div>\n",
       "<style scoped>\n",
       "    .dataframe tbody tr th:only-of-type {\n",
       "        vertical-align: middle;\n",
       "    }\n",
       "\n",
       "    .dataframe tbody tr th {\n",
       "        vertical-align: top;\n",
       "    }\n",
       "\n",
       "    .dataframe thead th {\n",
       "        text-align: right;\n",
       "    }\n",
       "</style>\n",
       "<table border=\"1\" class=\"dataframe\">\n",
       "  <thead>\n",
       "    <tr style=\"text-align: right;\">\n",
       "      <th></th>\n",
       "      <th>id</th>\n",
       "      <th>log_price</th>\n",
       "      <th>property_type</th>\n",
       "      <th>room_type</th>\n",
       "      <th>amenities</th>\n",
       "      <th>accommodates</th>\n",
       "      <th>bathrooms</th>\n",
       "      <th>bed_type</th>\n",
       "      <th>cancellation_policy</th>\n",
       "      <th>cleaning_fee</th>\n",
       "      <th>...</th>\n",
       "      <th>latitude</th>\n",
       "      <th>longitude</th>\n",
       "      <th>name</th>\n",
       "      <th>neighbourhood</th>\n",
       "      <th>number_of_reviews</th>\n",
       "      <th>review_scores_rating</th>\n",
       "      <th>thumbnail_url</th>\n",
       "      <th>zipcode</th>\n",
       "      <th>bedrooms</th>\n",
       "      <th>beds</th>\n",
       "    </tr>\n",
       "  </thead>\n",
       "  <tbody>\n",
       "    <tr>\n",
       "      <th>0</th>\n",
       "      <td>6901257</td>\n",
       "      <td>5.010635</td>\n",
       "      <td>Apartment</td>\n",
       "      <td>Entire home/apt</td>\n",
       "      <td>{\"Wireless Internet\",\"Air conditioning\",Kitche...</td>\n",
       "      <td>3</td>\n",
       "      <td>1.0</td>\n",
       "      <td>Real Bed</td>\n",
       "      <td>strict</td>\n",
       "      <td>True</td>\n",
       "      <td>...</td>\n",
       "      <td>40.696524</td>\n",
       "      <td>-73.991617</td>\n",
       "      <td>Beautiful brownstone 1-bedroom</td>\n",
       "      <td>Brooklyn Heights</td>\n",
       "      <td>2</td>\n",
       "      <td>100.0</td>\n",
       "      <td>https://a0.muscache.com/im/pictures/6d7cbbf7-c...</td>\n",
       "      <td>11201</td>\n",
       "      <td>1.0</td>\n",
       "      <td>1.0</td>\n",
       "    </tr>\n",
       "    <tr>\n",
       "      <th>1</th>\n",
       "      <td>6304928</td>\n",
       "      <td>5.129899</td>\n",
       "      <td>Apartment</td>\n",
       "      <td>Entire home/apt</td>\n",
       "      <td>{\"Wireless Internet\",\"Air conditioning\",Kitche...</td>\n",
       "      <td>7</td>\n",
       "      <td>1.0</td>\n",
       "      <td>Real Bed</td>\n",
       "      <td>strict</td>\n",
       "      <td>True</td>\n",
       "      <td>...</td>\n",
       "      <td>40.766115</td>\n",
       "      <td>-73.989040</td>\n",
       "      <td>Superb 3BR Apt Located Near Times Square</td>\n",
       "      <td>Hell's Kitchen</td>\n",
       "      <td>6</td>\n",
       "      <td>93.0</td>\n",
       "      <td>https://a0.muscache.com/im/pictures/348a55fe-4...</td>\n",
       "      <td>10019</td>\n",
       "      <td>3.0</td>\n",
       "      <td>3.0</td>\n",
       "    </tr>\n",
       "    <tr>\n",
       "      <th>2</th>\n",
       "      <td>7919400</td>\n",
       "      <td>4.976734</td>\n",
       "      <td>Apartment</td>\n",
       "      <td>Entire home/apt</td>\n",
       "      <td>{TV,\"Cable TV\",\"Wireless Internet\",\"Air condit...</td>\n",
       "      <td>5</td>\n",
       "      <td>1.0</td>\n",
       "      <td>Real Bed</td>\n",
       "      <td>moderate</td>\n",
       "      <td>True</td>\n",
       "      <td>...</td>\n",
       "      <td>40.808110</td>\n",
       "      <td>-73.943756</td>\n",
       "      <td>The Garden Oasis</td>\n",
       "      <td>Harlem</td>\n",
       "      <td>10</td>\n",
       "      <td>92.0</td>\n",
       "      <td>https://a0.muscache.com/im/pictures/6fae5362-9...</td>\n",
       "      <td>10027</td>\n",
       "      <td>1.0</td>\n",
       "      <td>3.0</td>\n",
       "    </tr>\n",
       "    <tr>\n",
       "      <th>3</th>\n",
       "      <td>13418779</td>\n",
       "      <td>6.620073</td>\n",
       "      <td>House</td>\n",
       "      <td>Entire home/apt</td>\n",
       "      <td>{TV,\"Cable TV\",Internet,\"Wireless Internet\",Ki...</td>\n",
       "      <td>4</td>\n",
       "      <td>1.0</td>\n",
       "      <td>Real Bed</td>\n",
       "      <td>flexible</td>\n",
       "      <td>True</td>\n",
       "      <td>...</td>\n",
       "      <td>37.772004</td>\n",
       "      <td>-122.431619</td>\n",
       "      <td>Beautiful Flat in the Heart of SF!</td>\n",
       "      <td>Lower Haight</td>\n",
       "      <td>0</td>\n",
       "      <td>NaN</td>\n",
       "      <td>https://a0.muscache.com/im/pictures/72208dad-9...</td>\n",
       "      <td>94117.0</td>\n",
       "      <td>2.0</td>\n",
       "      <td>2.0</td>\n",
       "    </tr>\n",
       "    <tr>\n",
       "      <th>4</th>\n",
       "      <td>3808709</td>\n",
       "      <td>4.744932</td>\n",
       "      <td>Apartment</td>\n",
       "      <td>Entire home/apt</td>\n",
       "      <td>{TV,Internet,\"Wireless Internet\",\"Air conditio...</td>\n",
       "      <td>2</td>\n",
       "      <td>1.0</td>\n",
       "      <td>Real Bed</td>\n",
       "      <td>moderate</td>\n",
       "      <td>True</td>\n",
       "      <td>...</td>\n",
       "      <td>38.925627</td>\n",
       "      <td>-77.034596</td>\n",
       "      <td>Great studio in midtown DC</td>\n",
       "      <td>Columbia Heights</td>\n",
       "      <td>4</td>\n",
       "      <td>40.0</td>\n",
       "      <td>NaN</td>\n",
       "      <td>20009</td>\n",
       "      <td>0.0</td>\n",
       "      <td>1.0</td>\n",
       "    </tr>\n",
       "  </tbody>\n",
       "</table>\n",
       "<p>5 rows × 29 columns</p>\n",
       "</div>"
      ],
      "text/plain": [
       "         id  log_price property_type        room_type  \\\n",
       "0   6901257   5.010635     Apartment  Entire home/apt   \n",
       "1   6304928   5.129899     Apartment  Entire home/apt   \n",
       "2   7919400   4.976734     Apartment  Entire home/apt   \n",
       "3  13418779   6.620073         House  Entire home/apt   \n",
       "4   3808709   4.744932     Apartment  Entire home/apt   \n",
       "\n",
       "                                           amenities  accommodates  bathrooms  \\\n",
       "0  {\"Wireless Internet\",\"Air conditioning\",Kitche...             3        1.0   \n",
       "1  {\"Wireless Internet\",\"Air conditioning\",Kitche...             7        1.0   \n",
       "2  {TV,\"Cable TV\",\"Wireless Internet\",\"Air condit...             5        1.0   \n",
       "3  {TV,\"Cable TV\",Internet,\"Wireless Internet\",Ki...             4        1.0   \n",
       "4  {TV,Internet,\"Wireless Internet\",\"Air conditio...             2        1.0   \n",
       "\n",
       "   bed_type cancellation_policy  cleaning_fee  ...    latitude   longitude  \\\n",
       "0  Real Bed              strict          True  ...   40.696524  -73.991617   \n",
       "1  Real Bed              strict          True  ...   40.766115  -73.989040   \n",
       "2  Real Bed            moderate          True  ...   40.808110  -73.943756   \n",
       "3  Real Bed            flexible          True  ...   37.772004 -122.431619   \n",
       "4  Real Bed            moderate          True  ...   38.925627  -77.034596   \n",
       "\n",
       "                                       name     neighbourhood  \\\n",
       "0            Beautiful brownstone 1-bedroom  Brooklyn Heights   \n",
       "1  Superb 3BR Apt Located Near Times Square    Hell's Kitchen   \n",
       "2                          The Garden Oasis            Harlem   \n",
       "3        Beautiful Flat in the Heart of SF!      Lower Haight   \n",
       "4                Great studio in midtown DC  Columbia Heights   \n",
       "\n",
       "  number_of_reviews review_scores_rating  \\\n",
       "0                 2                100.0   \n",
       "1                 6                 93.0   \n",
       "2                10                 92.0   \n",
       "3                 0                  NaN   \n",
       "4                 4                 40.0   \n",
       "\n",
       "                                       thumbnail_url  zipcode bedrooms  beds  \n",
       "0  https://a0.muscache.com/im/pictures/6d7cbbf7-c...    11201      1.0   1.0  \n",
       "1  https://a0.muscache.com/im/pictures/348a55fe-4...    10019      3.0   3.0  \n",
       "2  https://a0.muscache.com/im/pictures/6fae5362-9...    10027      1.0   3.0  \n",
       "3  https://a0.muscache.com/im/pictures/72208dad-9...  94117.0      2.0   2.0  \n",
       "4                                                NaN    20009      0.0   1.0  \n",
       "\n",
       "[5 rows x 29 columns]"
      ]
     },
     "execution_count": 2,
     "metadata": {},
     "output_type": "execute_result"
    }
   ],
   "source": [
    "data_airbnb = pd.read_csv('train.csv')\n",
    "data_airbnb_test = pd.read_csv('test.csv')\n",
    "data_airbnb.head()"
   ]
  },
  {
   "cell_type": "code",
   "execution_count": 3,
   "metadata": {},
   "outputs": [
    {
     "data": {
      "text/plain": [
       "id                            0\n",
       "log_price                     0\n",
       "property_type                 0\n",
       "room_type                     0\n",
       "amenities                     0\n",
       "accommodates                  0\n",
       "bathrooms                   200\n",
       "bed_type                      0\n",
       "cancellation_policy           0\n",
       "cleaning_fee                  0\n",
       "city                          0\n",
       "description                   0\n",
       "first_review              15864\n",
       "host_has_profile_pic        188\n",
       "host_identity_verified      188\n",
       "host_response_rate        18299\n",
       "host_since                  188\n",
       "instant_bookable              0\n",
       "last_review               15827\n",
       "latitude                      0\n",
       "longitude                     0\n",
       "name                          0\n",
       "neighbourhood              6872\n",
       "number_of_reviews             0\n",
       "review_scores_rating      16722\n",
       "thumbnail_url              8216\n",
       "zipcode                     966\n",
       "bedrooms                     91\n",
       "beds                        131\n",
       "dtype: int64"
      ]
     },
     "execution_count": 3,
     "metadata": {},
     "output_type": "execute_result"
    }
   ],
   "source": [
    "data_airbnb.isnull().sum()"
   ]
  },
  {
   "cell_type": "code",
   "execution_count": 4,
   "metadata": {},
   "outputs": [
    {
     "data": {
      "text/plain": [
       "<matplotlib.axes._subplots.AxesSubplot at 0x1c20b632e48>"
      ]
     },
     "execution_count": 4,
     "metadata": {},
     "output_type": "execute_result"
    },
    {
     "data": {
      "image/png": "[encoded data removed]",
      "text/plain": [
       "<Figure size 432x288 with 8 Axes>"
      ]
     },
     "metadata": {},
     "output_type": "display_data"
    }
   ],
   "source": [
    "#looking for outliers\n",
    "plt.figure(1)\n",
    "plt.subplot(421)\n",
    "sns.boxplot(x=data_airbnb['log_price'])\n",
    "\n",
    "plt.subplot(422)\n",
    "sns.boxplot(x=data_airbnb['beds'])\n",
    "\n",
    "plt.subplot(423)\n",
    "sns.boxplot(x=data_airbnb['accommodates'])\n",
    "\n",
    "plt.subplot(424)\n",
    "sns.boxplot(x=data_airbnb['bathrooms'])\n",
    "\n",
    "plt.subplot(425)\n",
    "sns.boxplot(x=data_airbnb['number_of_reviews'])\n",
    "\n",
    "plt.subplot(426)\n",
    "sns.boxplot(x=data_airbnb['review_scores_rating'])\n",
    "\n",
    "plt.subplot(427)\n",
    "sns.boxplot(x=data_airbnb['bedrooms'])\n",
    "\n",
    "plt.subplot(428)\n",
    "sns.boxplot(x=data_airbnb['beds'])"
   ]
  },
  {
   "cell_type": "code",
   "execution_count": 4,
   "metadata": {},
   "outputs": [],
   "source": [
    "data_airbnb = data_airbnb.fillna(0)\n",
    "data_airbnb[['host_identity_verified','host_has_profile_pic']] = data_airbnb[['host_identity_verified','host_has_profile_pic']].replace(0,'f')\n"
   ]
  },
  {
   "cell_type": "code",
   "execution_count": 5,
   "metadata": {},
   "outputs": [],
   "source": [
    "data_airbnb = data_airbnb.drop(['id','zipcode','thumbnail_url','name','description','amenities','host_since','last_review','first_review','neighbourhood'],axis=1)\n",
    "dummy_data_airbnb = pd.get_dummies(data_airbnb[[\n",
    "                                                \n",
    "                                                'review_scores_rating',\n",
    "                                                'number_of_reviews',\n",
    "                                                'instant_bookable',\n",
    "                                                'host_identity_verified',\n",
    "                                                'host_has_profile_pic',\n",
    "                                                'city',\n",
    "                                                'cancellation_policy',\n",
    "                                                'bed_type',\n",
    "                                                'room_type',\n",
    "                                                'property_type',\n",
    "                                                'cleaning_fee',\n",
    "                                                'host_response_rate'\n",
    "                                               \n",
    "                                               ]])\n",
    "\n",
    "dummy_data_airbnb =  pd.concat([data_airbnb, dummy_data_airbnb], axis=1)\n",
    "dummy_data_airbnb = dummy_data_airbnb.drop([    'review_scores_rating',\n",
    "                                                'number_of_reviews',\n",
    "                                                'instant_bookable',\n",
    "                                                'host_since',\n",
    "                                                'host_identity_verified',\n",
    "                                                'host_has_profile_pic',\n",
    "                                                'city',\n",
    "                                                'cancellation_policy',\n",
    "                                                'bed_type',\n",
    "                                                'amenities',\n",
    "                                                'room_type',\n",
    "                                                'property_type',\n",
    "                                                'cleaning_fee',\n",
    "                                                'host_since',\n",
    "                                                'last_review',\n",
    "                                                'first_review',\n",
    "                                                'longitude',\n",
    "                                                'latitude',\n",
    "                                                'host_response_rate',\n",
    "                                                \n",
    "\n",
    "                                            ],axis = 1)\n",
    "\n"
   ]
  },
  {
   "cell_type": "markdown",
   "metadata": {},
   "source": [
    "<p> Question R - 2 (5 . 3 = 15 points) </p>\n",
    "Plot three task-relevant plots. For example, a line chart showing the trend of prices over time. \n",
    "You can use any library or plot type to a plot, but make sure it's readable i.e. proper labeling of the axis, title, and coloring.\n"
   ]
  },
  {
   "cell_type": "code",
   "execution_count": 7,
   "metadata": {},
   "outputs": [
    {
     "name": "stderr",
     "output_type": "stream",
     "text": [
      "C:\\Users\\kangh\\Anaconda3\\lib\\site-packages\\ipykernel_launcher.py:4: SettingWithCopyWarning: \n",
      "A value is trying to be set on a copy of a slice from a DataFrame.\n",
      "Try using .loc[row_indexer,col_indexer] = value instead\n",
      "\n",
      "See the caveats in the documentation: http://pandas.pydata.org/pandas-docs/stable/indexing.html#indexing-view-versus-copy\n",
      "  after removing the cwd from sys.path.\n"
     ]
    },
    {
     "data": {
      "image/png": "[encoded data removed]",
      "text/plain": [
       "<Figure size 432x288 with 1 Axes>"
      ]
     },
     "metadata": {},
     "output_type": "display_data"
    }
   ],
   "source": [
    "#AVERAGE PRICE OF AIRBNB IN DIFFERENT CITY\n",
    "airbnb = pd.read_csv('train.csv')\n",
    "airbnb_ = airbnb[['city','log_price']]\n",
    "airbnb_['log_price'] = np.exp(airbnb_['log_price'])\n",
    "airbnb_ = airbnb_.groupby('city')['log_price'].mean()\n",
    "airbnb_ = airbnb_.sort_values(ascending = False)\n",
    "ave_price_city = airbnb_.plot.bar(title = 'AVERAGE PRICE OF AIRBNB IN DIFFERENT CITY', fontsize=20)\n",
    "\n"
   ]
  },
  {
   "cell_type": "code",
   "execution_count": 8,
   "metadata": {},
   "outputs": [
    {
     "name": "stderr",
     "output_type": "stream",
     "text": [
      "C:\\Users\\kangh\\Anaconda3\\lib\\site-packages\\matplotlib\\axes\\_axes.py:6462: UserWarning: The 'normed' kwarg is deprecated, and has been replaced by the 'density' kwarg.\n",
      "  warnings.warn(\"The 'normed' kwarg is deprecated, and has been \"\n"
     ]
    },
    {
     "data": {
      "image/png": "[encoded data removed]",
      "text/plain": [
       "<Figure size 432x288 with 1 Axes>"
      ]
     },
     "metadata": {},
     "output_type": "display_data"
    }
   ],
   "source": [
    "x = plt.figure()\n",
    "data_airbnb_price_distribution = np.exp(data_airbnb['log_price'])\n",
    "dist_graph = sns.distplot(data_airbnb_price_distribution).set_title(\"PRICE DISTRIBUTION (USD)\")\n",
    "plt.xlim(0,500)\n",
    "plt.xlabel('PRICE')\n",
    "plt.rc('ytick', labelsize=18)"
   ]
  },
  {
   "cell_type": "code",
   "execution_count": 9,
   "metadata": {},
   "outputs": [
    {
     "data": {
      "text/plain": [
       "Text(0.5,1,'DISTRIBUTION OF RATING SCORES')"
      ]
     },
     "execution_count": 9,
     "metadata": {},
     "output_type": "execute_result"
    },
    {
     "data": {
      "image/png": "[encoded data removed]",
      "text/plain": [
       "<Figure size 432x288 with 1 Axes>"
      ]
     },
     "metadata": {},
     "output_type": "display_data"
    }
   ],
   "source": [
    "sns.boxplot(x=data_airbnb['review_scores_rating']).set_title('DISTRIBUTION OF RATING SCORES')"
   ]
  },
  {
   "cell_type": "markdown",
   "metadata": {},
   "source": [
    "<p>Question R - 3 (5.2 =  10 points)</p>\n",
    "Perform feature selection  - Attempt at least 2 feature selection approaches to select your features. \n",
    "You can select one approach for further modeling and explain why you selected it.\n",
    "1. Stepwise\n",
    "2. Backward elimination\n",
    "3. PCA\n"
   ]
  },
  {
   "cell_type": "code",
   "execution_count": 10,
   "metadata": {
    "scrolled": true
   },
   "outputs": [],
   "source": [
    "#PCA\n",
    "dummy_pca = dummy_data_airbnb.drop(['log_price'],axis=1)\n",
    "pca = PCA(n_components=30)\n",
    "#principalComponents = pca.fit_transform(dummy_data_airbnb)\n",
    "principalComponents = pca.fit_transform(dummy_pca)\n",
    "principalDf = pd.DataFrame(data = principalComponents, columns = [\n",
    "                                                                 'a','b','c','d','e','f','g','h','i','j','k','l','m','o','n','p',\n",
    "    'q','r','s','t','u','v','w','x','y','z','ab','ac','ad','ae'\n",
    "                                                                 \n",
    "                                                                 ]\n",
    "                          )\n",
    "#finalDf = pd.concat([principalDf, dummy_data_airbnb[['log_price']]], axis = 1)\n",
    "finalDf = pd.concat([principalDf, dummy_data_airbnb[['log_price']]], axis = 1)\n",
    "X_PCA = finalDf.loc[:, finalDf.columns != 'log_price']\n",
    "y_PCA = finalDf.loc[:, finalDf.columns == 'log_price']"
   ]
  },
  {
   "cell_type": "code",
   "execution_count": 11,
   "metadata": {},
   "outputs": [
    {
     "name": "stderr",
     "output_type": "stream",
     "text": [
      "C:\\Users\\kangh\\Anaconda3\\lib\\site-packages\\sklearn\\utils\\validation.py:578: DataConversionWarning: A column-vector y was passed when a 1d array was expected. Please change the shape of y to (n_samples, ), for example using ravel().\n",
      "  y = column_or_1d(y, warn=True)\n"
     ]
    },
    {
     "data": {
      "text/plain": [
       "array([140, 139, 138, 141,   1,   1,   1,   1,  14,  15,  19,  16,  20,\n",
       "        17,  18,  21,  10,   9,  11,  12,  13,   3,   1,   2,   4,   5,\n",
       "         8,   7,   6,  46,  37,  35,  32,  47,  51,  52,  39,  24,  43,\n",
       "        42,  36,  53,  31,  48,  49,  54,  41,  56,  55,  23,  30,  34,\n",
       "        38,  22,  33,  50,  26,  27,  40,  25,  45,  28,  29,  44,  77,\n",
       "        68, 128, 101,  63, 135, 131,  73, 107,  99, 123,  95, 136,  89,\n",
       "        59,  58, 117, 108, 134,  75, 124, 126,  74, 130,  86,  71, 127,\n",
       "       129, 111,  76,  57,  80,  66,  69,  62, 121,  64,  96,  67,  82,\n",
       "       137, 103, 120, 109, 112, 118, 133, 132,  81,  65, 119,  97, 110,\n",
       "       122,  60,  78,  84,  61, 114,  85, 104,  92,  88, 116,  94, 105,\n",
       "        70,  90, 115,  93,  83,  98,  79, 100,  87,  72, 106,  91, 102,\n",
       "       113, 125])"
      ]
     },
     "execution_count": 11,
     "metadata": {},
     "output_type": "execute_result"
    }
   ],
   "source": [
    "#RFE\n",
    "rfe_data_X = dummy_data_airbnb.drop(['log_price'],axis=1)\n",
    "rfe_data_y = dummy_data_airbnb.loc[:,dummy_data_airbnb.columns == 'log_price']\n",
    "Linear_Reg = linear_model.LinearRegression()\n",
    "rfe = RFE(Linear_Reg, n_features_to_select=5)\n",
    "rfe_transform=rfe.fit_transform(rfe_data_X,rfe_data_y)\n",
    "X_train_r,X_test_r,y_train_r,y_test_r=train_test_split(rfe_transform, rfe_data_y,\n",
    "                test_size=0.25,random_state=0)\n",
    "rfe.ranking_"
   ]
  },
  {
   "cell_type": "markdown",
   "metadata": {},
   "source": [
    "<p> Question R - 4 (5.3 = 15 points) </p>\n",
    "Modeling - Please attempt to solve the problem with at least three models with 10-fold cross validation.\n",
    "1. Linear Regression\n",
    "2. Ridge Regression\n",
    "3. Your choice - you can use a regression model you learned in class or some other model that you think would be better.\n",
    "If you are using a library other than sklearn, for example, a neural network using TensorFlow. Please mention it in the first few \n",
    "cells so that I can load it into the environment for grading."
   ]
  },
  {
   "cell_type": "code",
   "execution_count": 12,
   "metadata": {},
   "outputs": [
    {
     "name": "stdout",
     "output_type": "stream",
     "text": [
      "0.5488079311655463\n",
      "0.564172265590098\n",
      "0.5602752279091632\n",
      "0.5660767651119207\n",
      "0.5673166052575418\n",
      "0.5549253842326587\n",
      "0.5430635851335275\n",
      "0.5487416838887024\n",
      "0.5441177710138676\n",
      "0.5489890962872394\n"
     ]
    }
   ],
   "source": [
    "#Linear Regression\n",
    "k_folds = KFold(10)\n",
    "\n",
    "\n",
    "X_train,X_test,y_train,y_test = train_test_split(X_PCA,y_PCA,test_size = 0.5)\n",
    "\n",
    "My_Model_2 = linear_model.LinearRegression()\n",
    "for k,(train,test) in enumerate(k_folds.split(X_PCA,y_PCA)):\n",
    "    \n",
    "    My_Model_2.fit(X_train,y_train)\n",
    "    print (My_Model_2.score(X_PCA.iloc[test],y_PCA.iloc[test]))"
   ]
  },
  {
   "cell_type": "code",
   "execution_count": 13,
   "metadata": {},
   "outputs": [
    {
     "name": "stderr",
     "output_type": "stream",
     "text": [
      "C:\\Users\\kangh\\Anaconda3\\lib\\site-packages\\ipykernel_launcher.py:3: DataConversionWarning: A column-vector y was passed when a 1d array was expected. Please change the shape of y to (n_samples,), for example using ravel().\n",
      "  This is separate from the ipykernel package so we can avoid doing imports until\n"
     ]
    },
    {
     "name": "stdout",
     "output_type": "stream",
     "text": [
      "0.5581518091327856\n"
     ]
    }
   ],
   "source": [
    "#Random Forest\n",
    "rf_lin = RandomForestRegressor(n_estimators = 100, random_state = 0)\n",
    "rf_lin.fit(X_train,y_train)\n",
    "print(rf_lin.score(X_test,y_test))"
   ]
  },
  {
   "cell_type": "code",
   "execution_count": 14,
   "metadata": {},
   "outputs": [
    {
     "name": "stdout",
     "output_type": "stream",
     "text": [
      "0.5491922241947518\n"
     ]
    }
   ],
   "source": [
    "#Ridge Regression\n",
    "rd_lin = Ridge()\n",
    "rd_lin.fit(X_train,y_train)\n",
    "print(rd_lin.score(X_test,y_test))"
   ]
  },
  {
   "cell_type": "markdown",
   "metadata": {},
   "source": [
    "<p> Grid Search </p>\n",
    "The grid search is a technique to find the best parameters for your model. It performs an exhaustive search over the hyperparameter search space to get the best settings. You can find an example here, https://scikit-learn.org/stable/auto_examples/model_selection/plot_grid_search_digits.html.\n",
    "Also, you can find an example here https://github.com/sourabhparime/Teaching/blob/master/Workshop%202/2_GridSearch_HyperparameterEstimation.ipynb "
   ]
  },
  {
   "cell_type": "markdown",
   "metadata": {},
   "source": [
    "<p> Question R - 6 (10 points)</p>\n",
    "Tuning - From the above cell you have your best performing model. Tune it using grid search, to get the best parameters. \n",
    "As usual, you get points for grid searching, i.e. even if you find that the default hyperparameters are the best per-\n",
    "forming you still get points for grid searching"
   ]
  },
  {
   "cell_type": "code",
   "execution_count": 15,
   "metadata": {},
   "outputs": [
    {
     "name": "stdout",
     "output_type": "stream",
     "text": [
      "{'alpha': 10}\n"
     ]
    }
   ],
   "source": [
    "#Grid Search\n",
    "param_grid = {'alpha':[0.1,1,10,100] }\n",
    "grid = GridSearchCV(Ridge(), param_grid ,cv=5)\n",
    "grid.fit(X_train, y_train)\n",
    "print(grid.best_params_)"
   ]
  },
  {
   "cell_type": "markdown",
   "metadata": {},
   "source": [
    "<p> Question R - 7 (10 points) </p>\n",
    "Predict - Split your dataset into train, test and predict the test values using your best performing model and your\n",
    "best hyperparameters"
   ]
  },
  {
   "cell_type": "code",
   "execution_count": 16,
   "metadata": {},
   "outputs": [
    {
     "data": {
      "text/plain": [
       "array([[4.24396438],\n",
       "       [4.35546837],\n",
       "       [4.19240765],\n",
       "       ...,\n",
       "       [5.29281912],\n",
       "       [6.11650346],\n",
       "       [4.77880555]])"
      ]
     },
     "execution_count": 16,
     "metadata": {},
     "output_type": "execute_result"
    }
   ],
   "source": [
    "tuned_ridge = Ridge(alpha=10)\n",
    "tuned_ridge.fit(X_train,y_train)\n",
    "ridge_prediction = tuned_ridge.predict(X_test)\n",
    "ridge_prediction"
   ]
  },
  {
   "cell_type": "markdown",
   "metadata": {},
   "source": [
    "<p> Question R - 8 </p>\n",
    "Write a stepwise summary of your findings.\n",
    "1. If there were any imputations executed, what were they?  (1 point)\n",
    "2. You plotted three graphs. What is the insight you gained in one line? (2 points per insight.)   (2 .3  = 6 points)\n",
    "3. Which feature selection method worked for you?  (1 point)\n",
    "4. What was the third model you implemented?. Was it better than the required two? If yes, then why? (2 points)\n"
   ]
  },
  {
   "cell_type": "code",
   "execution_count": 17,
   "metadata": {},
   "outputs": [
    {
     "data": {
      "text/plain": [
       "'I chose random forest regression. It was slightly better by 1 percent.'"
      ]
     },
     "execution_count": 17,
     "metadata": {},
     "output_type": "execute_result"
    }
   ],
   "source": [
    "#Question1 \n",
    "\"\"\"I have replaced 0 for null value for the convenience of data preprocessing. \n",
    "   Also, I have replace 'f' for the 0 in the column of 'host_identity_verified'and 'host_has_profile_pic' in or to \n",
    "   match the other string values in the column and for the convenience of further data preprocessing.\n",
    "   More over, I have drop multiple columns considered relatively irrelavent or too complex to analyze.\"\"\"\n",
    "#Question2\n",
    "\"\"\"First Graph: I have found that SanFranciso has the highest average price of airbnb, \n",
    "   while Chicago has the relatively lowest average price\n",
    "   Second Graph: I have printed the distribution of the price, where I found that the majority of the price concentratee\n",
    "   in the range of 100 to 200 dollars.\n",
    "   Third Paragraph: The third graph showed the distribution of the rating score,\n",
    "   where the most of the scores were located at the range around 75 to 95. \"\"\"\n",
    "#Question3\n",
    "\"\"\"I chose PCA for further use\"\"\"\n",
    "#Question4\n",
    "\"\"\"I chose random forest regression. It was slightly better by 1 percent.\"\"\""
   ]
  },
  {
   "cell_type": "markdown",
   "metadata": {},
   "source": [
    "<p> Template for part 2 Classification problem </p>\n",
    "*Note: Please make sure your variable names for dataframes are not the same to avoid variable assignment errors.\n",
    "Please make sure your notebook runs completely on Restart and Run without errors.\n"
   ]
  },
  {
   "cell_type": "markdown",
   "metadata": {},
   "source": [
    "<p> Question C - 1 (3.3 = 9 points) </p>\n",
    "Plot three task-relevant plots. For example, a line chart showing the trend of prices over time. \n",
    "You can use any library or plot type to a plot, but make sure it's readable i.e. proper labeling of the axis, title, and coloring.\n",
    "\n",
    "\n"
   ]
  },
  {
   "cell_type": "code",
   "execution_count": 18,
   "metadata": {},
   "outputs": [
    {
     "data": {
      "image/png": "[encoded data removed]",
      "text/plain": [
       "<Figure size 7200x1440 with 1 Axes>"
      ]
     },
     "metadata": {},
     "output_type": "display_data"
    }
   ],
   "source": [
    "#Numbers of Different Property Type\n",
    "plt.figure(figsize=(100,20))\n",
    "plt.rc('xtick', labelsize=25)\n",
    "sns.countplot(x=\"property_type\",data=data_airbnb).set_title('NUMBERS OF DIFFERENT PROPERTY TYPE', fontsize = 60)\n",
    "plt.xlabel('Property Type')\n",
    "plt.ylabel(\"Number\")\n",
    "plt.rc('ytick', labelsize=70)"
   ]
  },
  {
   "cell_type": "code",
   "execution_count": 19,
   "metadata": {},
   "outputs": [
    {
     "data": {
      "image/png": "[encoded data removed]",
      "text/plain": [
       "<Figure size 432x288 with 1 Axes>"
      ]
     },
     "metadata": {},
     "output_type": "display_data"
    }
   ],
   "source": [
    "sns.countplot(data_airbnb['accommodates']).set_title('DISTRIBUTION OF NUMBER OF ACCOMMODATES')\n",
    "plt.rc('xtick',labelsize = 10)\n",
    "plt.rc('ytick',labelsize = 10)\n"
   ]
  },
  {
   "cell_type": "code",
   "execution_count": 20,
   "metadata": {},
   "outputs": [
    {
     "data": {
      "text/plain": [
       "Text(0.5,1,'DISTRIBUTION OF NUMBER OF BEDROOMS')"
      ]
     },
     "execution_count": 20,
     "metadata": {},
     "output_type": "execute_result"
    },
    {
     "data": {
      "image/png": "[encoded data removed]",
      "text/plain": [
       "<Figure size 432x288 with 1 Axes>"
      ]
     },
     "metadata": {},
     "output_type": "display_data"
    }
   ],
   "source": [
    "sns.countplot(x = data_airbnb['bedrooms']).set_title('DISTRIBUTION OF NUMBER OF BEDROOMS')"
   ]
  },
  {
   "cell_type": "markdown",
   "metadata": {},
   "source": [
    "<p> Question C - 2 (5 * 3 = 15 points)</p>\n",
    "Modeling - Please attempt to solve the problem with at least three models with 10-fold cross validation -5 points\n",
    "1. Logistic Regression\n",
    "2. KNN\n",
    "3. SVM"
   ]
  },
  {
   "cell_type": "code",
   "execution_count": 6,
   "metadata": {},
   "outputs": [],
   "source": [
    "dummy_data_airbnb_logistic = pd.get_dummies(data_airbnb[[\n",
    "                                                \n",
    "                                                'review_scores_rating',\n",
    "                                                'number_of_reviews',\n",
    "                                                'instant_bookable',\n",
    "                                                'host_identity_verified',\n",
    "                                                'host_has_profile_pic',\n",
    "                                                'city',\n",
    "                                                'cancellation_policy',\n",
    "                                                'bed_type',\n",
    "                                                'room_type',\n",
    "                                                'cleaning_fee',\n",
    "                                                \n",
    "                                                'host_response_rate'\n",
    "                                            \n",
    "                                               ]])\n",
    "\n",
    "dummy_data_airbnb_logistic =  pd.concat([data_airbnb, dummy_data_airbnb_logistic], axis=1)\n",
    "dummy_data_airbnb_logistic = dummy_data_airbnb_logistic.drop([\n",
    "                                                'review_scores_rating',\n",
    "                                                'number_of_reviews',\n",
    "                                                'instant_bookable',\n",
    "                                                'host_since',\n",
    "                                                'host_identity_verified',\n",
    "                                                'host_has_profile_pic',\n",
    "                                                'city',\n",
    "                                                'cancellation_policy',\n",
    "                                                'bed_type',\n",
    "                                                'amenities',\n",
    "                                                'room_type',\n",
    "                                               \n",
    "                                                'cleaning_fee',\n",
    "                                                'host_since',\n",
    "                                                'last_review',\n",
    "                                                'first_review',\n",
    "                                                'longitude',\n",
    "                                                'latitude',\n",
    "                                                'host_response_rate',\n",
    "                                                'id'\n",
    "\n",
    "                                            ],axis = 1)\n",
    "\n",
    "X_logistics = dummy_data_airbnb_logistic.loc[:, dummy_data_airbnb_logistic.columns != 'property_type']\n",
    "y_logistics = dummy_data_airbnb_logistic.loc[:,dummy_data_airbnb_logistic.columns == 'property_type']\n",
    "\n",
    "kfold = model_selection.KFold(n_splits=10, random_state=0)\n",
    "\n",
    "X_train_log,X_test_log,y_train_log,y_test_log = train_test_split(X_logistics,y_logistics,test_size = 0.5)\n"
   ]
  },
  {
   "cell_type": "code",
   "execution_count": 22,
   "metadata": {},
   "outputs": [
    {
     "name": "stderr",
     "output_type": "stream",
     "text": [
      "C:\\Users\\kangh\\Anaconda3\\lib\\site-packages\\sklearn\\utils\\validation.py:578: DataConversionWarning: A column-vector y was passed when a 1d array was expected. Please change the shape of y to (n_samples, ), for example using ravel().\n",
      "  y = column_or_1d(y, warn=True)\n",
      "C:\\Users\\kangh\\Anaconda3\\lib\\site-packages\\sklearn\\utils\\validation.py:578: DataConversionWarning: A column-vector y was passed when a 1d array was expected. Please change the shape of y to (n_samples, ), for example using ravel().\n",
      "  y = column_or_1d(y, warn=True)\n",
      "C:\\Users\\kangh\\Anaconda3\\lib\\site-packages\\sklearn\\utils\\validation.py:578: DataConversionWarning: A column-vector y was passed when a 1d array was expected. Please change the shape of y to (n_samples, ), for example using ravel().\n",
      "  y = column_or_1d(y, warn=True)\n",
      "C:\\Users\\kangh\\Anaconda3\\lib\\site-packages\\sklearn\\utils\\validation.py:578: DataConversionWarning: A column-vector y was passed when a 1d array was expected. Please change the shape of y to (n_samples, ), for example using ravel().\n",
      "  y = column_or_1d(y, warn=True)\n",
      "C:\\Users\\kangh\\Anaconda3\\lib\\site-packages\\sklearn\\utils\\validation.py:578: DataConversionWarning: A column-vector y was passed when a 1d array was expected. Please change the shape of y to (n_samples, ), for example using ravel().\n",
      "  y = column_or_1d(y, warn=True)\n",
      "C:\\Users\\kangh\\Anaconda3\\lib\\site-packages\\sklearn\\utils\\validation.py:578: DataConversionWarning: A column-vector y was passed when a 1d array was expected. Please change the shape of y to (n_samples, ), for example using ravel().\n",
      "  y = column_or_1d(y, warn=True)\n",
      "C:\\Users\\kangh\\Anaconda3\\lib\\site-packages\\sklearn\\utils\\validation.py:578: DataConversionWarning: A column-vector y was passed when a 1d array was expected. Please change the shape of y to (n_samples, ), for example using ravel().\n",
      "  y = column_or_1d(y, warn=True)\n",
      "C:\\Users\\kangh\\Anaconda3\\lib\\site-packages\\sklearn\\utils\\validation.py:578: DataConversionWarning: A column-vector y was passed when a 1d array was expected. Please change the shape of y to (n_samples, ), for example using ravel().\n",
      "  y = column_or_1d(y, warn=True)\n",
      "C:\\Users\\kangh\\Anaconda3\\lib\\site-packages\\sklearn\\utils\\validation.py:578: DataConversionWarning: A column-vector y was passed when a 1d array was expected. Please change the shape of y to (n_samples, ), for example using ravel().\n",
      "  y = column_or_1d(y, warn=True)\n",
      "C:\\Users\\kangh\\Anaconda3\\lib\\site-packages\\sklearn\\utils\\validation.py:578: DataConversionWarning: A column-vector y was passed when a 1d array was expected. Please change the shape of y to (n_samples, ), for example using ravel().\n",
      "  y = column_or_1d(y, warn=True)\n",
      "C:\\Users\\kangh\\Anaconda3\\lib\\site-packages\\sklearn\\utils\\validation.py:578: DataConversionWarning: A column-vector y was passed when a 1d array was expected. Please change the shape of y to (n_samples, ), for example using ravel().\n",
      "  y = column_or_1d(y, warn=True)\n"
     ]
    },
    {
     "name": "stdout",
     "output_type": "stream",
     "text": [
      "0.7158991338337442\n"
     ]
    }
   ],
   "source": [
    "#LogisticRegression\n",
    "My_Model_3 = linear_model.LogisticRegression(random_state=0)\n",
    "My_Model_3.fit(X_train_log,y_train_log)\n",
    "results = model_selection.cross_val_score(My_Model_3, X_logistics, y_logistics, cv=kfold)\n",
    "print(results.mean())"
   ]
  },
  {
   "cell_type": "code",
   "execution_count": 23,
   "metadata": {},
   "outputs": [
    {
     "name": "stderr",
     "output_type": "stream",
     "text": [
      "C:\\Users\\kangh\\Anaconda3\\lib\\site-packages\\ipykernel_launcher.py:3: DataConversionWarning: A column-vector y was passed when a 1d array was expected. Please change the shape of y to (n_samples, ), for example using ravel().\n",
      "  This is separate from the ipykernel package so we can avoid doing imports until\n",
      "C:\\Users\\kangh\\Anaconda3\\lib\\site-packages\\sklearn\\model_selection\\_validation.py:458: DataConversionWarning: A column-vector y was passed when a 1d array was expected. Please change the shape of y to (n_samples, ), for example using ravel().\n",
      "  estimator.fit(X_train, y_train, **fit_params)\n",
      "C:\\Users\\kangh\\Anaconda3\\lib\\site-packages\\sklearn\\model_selection\\_validation.py:458: DataConversionWarning: A column-vector y was passed when a 1d array was expected. Please change the shape of y to (n_samples, ), for example using ravel().\n",
      "  estimator.fit(X_train, y_train, **fit_params)\n",
      "C:\\Users\\kangh\\Anaconda3\\lib\\site-packages\\sklearn\\model_selection\\_validation.py:458: DataConversionWarning: A column-vector y was passed when a 1d array was expected. Please change the shape of y to (n_samples, ), for example using ravel().\n",
      "  estimator.fit(X_train, y_train, **fit_params)\n",
      "C:\\Users\\kangh\\Anaconda3\\lib\\site-packages\\sklearn\\model_selection\\_validation.py:458: DataConversionWarning: A column-vector y was passed when a 1d array was expected. Please change the shape of y to (n_samples, ), for example using ravel().\n",
      "  estimator.fit(X_train, y_train, **fit_params)\n",
      "C:\\Users\\kangh\\Anaconda3\\lib\\site-packages\\sklearn\\model_selection\\_validation.py:458: DataConversionWarning: A column-vector y was passed when a 1d array was expected. Please change the shape of y to (n_samples, ), for example using ravel().\n",
      "  estimator.fit(X_train, y_train, **fit_params)\n",
      "C:\\Users\\kangh\\Anaconda3\\lib\\site-packages\\sklearn\\model_selection\\_validation.py:458: DataConversionWarning: A column-vector y was passed when a 1d array was expected. Please change the shape of y to (n_samples, ), for example using ravel().\n",
      "  estimator.fit(X_train, y_train, **fit_params)\n",
      "C:\\Users\\kangh\\Anaconda3\\lib\\site-packages\\sklearn\\model_selection\\_validation.py:458: DataConversionWarning: A column-vector y was passed when a 1d array was expected. Please change the shape of y to (n_samples, ), for example using ravel().\n",
      "  estimator.fit(X_train, y_train, **fit_params)\n",
      "C:\\Users\\kangh\\Anaconda3\\lib\\site-packages\\sklearn\\model_selection\\_validation.py:458: DataConversionWarning: A column-vector y was passed when a 1d array was expected. Please change the shape of y to (n_samples, ), for example using ravel().\n",
      "  estimator.fit(X_train, y_train, **fit_params)\n",
      "C:\\Users\\kangh\\Anaconda3\\lib\\site-packages\\sklearn\\model_selection\\_validation.py:458: DataConversionWarning: A column-vector y was passed when a 1d array was expected. Please change the shape of y to (n_samples, ), for example using ravel().\n",
      "  estimator.fit(X_train, y_train, **fit_params)\n",
      "C:\\Users\\kangh\\Anaconda3\\lib\\site-packages\\sklearn\\model_selection\\_validation.py:458: DataConversionWarning: A column-vector y was passed when a 1d array was expected. Please change the shape of y to (n_samples, ), for example using ravel().\n",
      "  estimator.fit(X_train, y_train, **fit_params)\n"
     ]
    },
    {
     "name": "stdout",
     "output_type": "stream",
     "text": [
      "0.7126472164777741\n"
     ]
    }
   ],
   "source": [
    "#KNN\n",
    "knn = KNeighborsClassifier()\n",
    "knn.fit(X_train_log,y_train_log)\n",
    "knn_pred = knn.predict(X_test_log)\n",
    "results_knn = model_selection.cross_val_score(knn, X_logistics, y_logistics, cv=kfold)\n",
    "print(results_knn.mean())"
   ]
  },
  {
   "cell_type": "code",
   "execution_count": null,
   "metadata": {},
   "outputs": [
    {
     "name": "stderr",
     "output_type": "stream",
     "text": [
      "C:\\Users\\kangh\\Anaconda3\\lib\\site-packages\\sklearn\\utils\\validation.py:578: DataConversionWarning: A column-vector y was passed when a 1d array was expected. Please change the shape of y to (n_samples, ), for example using ravel().\n",
      "  y = column_or_1d(y, warn=True)\n"
     ]
    }
   ],
   "source": [
    "#SVC\n",
    "#model_SVC = SVC()\n",
    "#model_SVC.fit(X_train_log,y_train_log)\n",
    "#results_SVM = model_selection.cross_val_score(model_SVC,X_logistics,y_logistics,cv=kfold)\n",
    "#print(results_SVM.mean())"
   ]
  },
  {
   "cell_type": "markdown",
   "metadata": {},
   "source": [
    "<p> Question C - 3 (6 points)</p>\n",
    "Tuning - From the above cell you have your best performing model. Tune it using grid search, to get the best parameters. \n",
    "As usual, you get points for grid searching, i.e. even if you find that the default hyperparameters are the best per-\n",
    "forming you still get points for grid searching"
   ]
  },
  {
   "cell_type": "code",
   "execution_count": 25,
   "metadata": {},
   "outputs": [
    {
     "name": "stderr",
     "output_type": "stream",
     "text": [
      "C:\\Users\\kangh\\Anaconda3\\lib\\site-packages\\sklearn\\model_selection\\_split.py:605: Warning: The least populated class in y has only 1 members, which is too few. The minimum number of members in any class cannot be less than n_splits=5.\n",
      "  % (min_groups, self.n_splits)), Warning)\n",
      "C:\\Users\\kangh\\Anaconda3\\lib\\site-packages\\sklearn\\utils\\validation.py:578: DataConversionWarning: A column-vector y was passed when a 1d array was expected. Please change the shape of y to (n_samples, ), for example using ravel().\n",
      "  y = column_or_1d(y, warn=True)\n",
      "C:\\Users\\kangh\\Anaconda3\\lib\\site-packages\\sklearn\\utils\\validation.py:578: DataConversionWarning: A column-vector y was passed when a 1d array was expected. Please change the shape of y to (n_samples, ), for example using ravel().\n",
      "  y = column_or_1d(y, warn=True)\n",
      "C:\\Users\\kangh\\Anaconda3\\lib\\site-packages\\sklearn\\utils\\validation.py:578: DataConversionWarning: A column-vector y was passed when a 1d array was expected. Please change the shape of y to (n_samples, ), for example using ravel().\n",
      "  y = column_or_1d(y, warn=True)\n",
      "C:\\Users\\kangh\\Anaconda3\\lib\\site-packages\\sklearn\\utils\\validation.py:578: DataConversionWarning: A column-vector y was passed when a 1d array was expected. Please change the shape of y to (n_samples, ), for example using ravel().\n",
      "  y = column_or_1d(y, warn=True)\n",
      "C:\\Users\\kangh\\Anaconda3\\lib\\site-packages\\sklearn\\utils\\validation.py:578: DataConversionWarning: A column-vector y was passed when a 1d array was expected. Please change the shape of y to (n_samples, ), for example using ravel().\n",
      "  y = column_or_1d(y, warn=True)\n",
      "C:\\Users\\kangh\\Anaconda3\\lib\\site-packages\\sklearn\\utils\\validation.py:578: DataConversionWarning: A column-vector y was passed when a 1d array was expected. Please change the shape of y to (n_samples, ), for example using ravel().\n",
      "  y = column_or_1d(y, warn=True)\n",
      "C:\\Users\\kangh\\Anaconda3\\lib\\site-packages\\sklearn\\utils\\validation.py:578: DataConversionWarning: A column-vector y was passed when a 1d array was expected. Please change the shape of y to (n_samples, ), for example using ravel().\n",
      "  y = column_or_1d(y, warn=True)\n",
      "C:\\Users\\kangh\\Anaconda3\\lib\\site-packages\\sklearn\\utils\\validation.py:578: DataConversionWarning: A column-vector y was passed when a 1d array was expected. Please change the shape of y to (n_samples, ), for example using ravel().\n",
      "  y = column_or_1d(y, warn=True)\n",
      "C:\\Users\\kangh\\Anaconda3\\lib\\site-packages\\sklearn\\utils\\validation.py:578: DataConversionWarning: A column-vector y was passed when a 1d array was expected. Please change the shape of y to (n_samples, ), for example using ravel().\n",
      "  y = column_or_1d(y, warn=True)\n",
      "C:\\Users\\kangh\\Anaconda3\\lib\\site-packages\\sklearn\\utils\\validation.py:578: DataConversionWarning: A column-vector y was passed when a 1d array was expected. Please change the shape of y to (n_samples, ), for example using ravel().\n",
      "  y = column_or_1d(y, warn=True)\n",
      "C:\\Users\\kangh\\Anaconda3\\lib\\site-packages\\sklearn\\utils\\validation.py:578: DataConversionWarning: A column-vector y was passed when a 1d array was expected. Please change the shape of y to (n_samples, ), for example using ravel().\n",
      "  y = column_or_1d(y, warn=True)\n",
      "C:\\Users\\kangh\\Anaconda3\\lib\\site-packages\\sklearn\\utils\\validation.py:578: DataConversionWarning: A column-vector y was passed when a 1d array was expected. Please change the shape of y to (n_samples, ), for example using ravel().\n",
      "  y = column_or_1d(y, warn=True)\n",
      "C:\\Users\\kangh\\Anaconda3\\lib\\site-packages\\sklearn\\utils\\validation.py:578: DataConversionWarning: A column-vector y was passed when a 1d array was expected. Please change the shape of y to (n_samples, ), for example using ravel().\n",
      "  y = column_or_1d(y, warn=True)\n",
      "C:\\Users\\kangh\\Anaconda3\\lib\\site-packages\\sklearn\\utils\\validation.py:578: DataConversionWarning: A column-vector y was passed when a 1d array was expected. Please change the shape of y to (n_samples, ), for example using ravel().\n",
      "  y = column_or_1d(y, warn=True)\n",
      "C:\\Users\\kangh\\Anaconda3\\lib\\site-packages\\sklearn\\utils\\validation.py:578: DataConversionWarning: A column-vector y was passed when a 1d array was expected. Please change the shape of y to (n_samples, ), for example using ravel().\n",
      "  y = column_or_1d(y, warn=True)\n",
      "C:\\Users\\kangh\\Anaconda3\\lib\\site-packages\\sklearn\\utils\\validation.py:578: DataConversionWarning: A column-vector y was passed when a 1d array was expected. Please change the shape of y to (n_samples, ), for example using ravel().\n",
      "  y = column_or_1d(y, warn=True)\n",
      "C:\\Users\\kangh\\Anaconda3\\lib\\site-packages\\sklearn\\utils\\validation.py:578: DataConversionWarning: A column-vector y was passed when a 1d array was expected. Please change the shape of y to (n_samples, ), for example using ravel().\n",
      "  y = column_or_1d(y, warn=True)\n",
      "C:\\Users\\kangh\\Anaconda3\\lib\\site-packages\\sklearn\\utils\\validation.py:578: DataConversionWarning: A column-vector y was passed when a 1d array was expected. Please change the shape of y to (n_samples, ), for example using ravel().\n",
      "  y = column_or_1d(y, warn=True)\n",
      "C:\\Users\\kangh\\Anaconda3\\lib\\site-packages\\sklearn\\utils\\validation.py:578: DataConversionWarning: A column-vector y was passed when a 1d array was expected. Please change the shape of y to (n_samples, ), for example using ravel().\n",
      "  y = column_or_1d(y, warn=True)\n",
      "C:\\Users\\kangh\\Anaconda3\\lib\\site-packages\\sklearn\\utils\\validation.py:578: DataConversionWarning: A column-vector y was passed when a 1d array was expected. Please change the shape of y to (n_samples, ), for example using ravel().\n",
      "  y = column_or_1d(y, warn=True)\n",
      "C:\\Users\\kangh\\Anaconda3\\lib\\site-packages\\sklearn\\utils\\validation.py:578: DataConversionWarning: A column-vector y was passed when a 1d array was expected. Please change the shape of y to (n_samples, ), for example using ravel().\n",
      "  y = column_or_1d(y, warn=True)\n",
      "C:\\Users\\kangh\\Anaconda3\\lib\\site-packages\\sklearn\\utils\\validation.py:578: DataConversionWarning: A column-vector y was passed when a 1d array was expected. Please change the shape of y to (n_samples, ), for example using ravel().\n",
      "  y = column_or_1d(y, warn=True)\n",
      "C:\\Users\\kangh\\Anaconda3\\lib\\site-packages\\sklearn\\utils\\validation.py:578: DataConversionWarning: A column-vector y was passed when a 1d array was expected. Please change the shape of y to (n_samples, ), for example using ravel().\n",
      "  y = column_or_1d(y, warn=True)\n",
      "C:\\Users\\kangh\\Anaconda3\\lib\\site-packages\\sklearn\\utils\\validation.py:578: DataConversionWarning: A column-vector y was passed when a 1d array was expected. Please change the shape of y to (n_samples, ), for example using ravel().\n",
      "  y = column_or_1d(y, warn=True)\n",
      "C:\\Users\\kangh\\Anaconda3\\lib\\site-packages\\sklearn\\utils\\validation.py:578: DataConversionWarning: A column-vector y was passed when a 1d array was expected. Please change the shape of y to (n_samples, ), for example using ravel().\n",
      "  y = column_or_1d(y, warn=True)\n",
      "C:\\Users\\kangh\\Anaconda3\\lib\\site-packages\\sklearn\\utils\\validation.py:578: DataConversionWarning: A column-vector y was passed when a 1d array was expected. Please change the shape of y to (n_samples, ), for example using ravel().\n",
      "  y = column_or_1d(y, warn=True)\n"
     ]
    },
    {
     "name": "stdout",
     "output_type": "stream",
     "text": [
      "{'C': 1}\n"
     ]
    }
   ],
   "source": [
    "param_grid = {'C': [0.01, 0.1, 1, 10, 100] }\n",
    "grid = GridSearchCV(LogisticRegression(), param_grid ,cv=5)\n",
    "grid.fit(X_train_log, y_train_log)\n",
    "\n",
    "print(grid.best_params_)\n",
    "#I chose on parameter since my laptop couldn't run choosing multiple parameters"
   ]
  },
  {
   "cell_type": "markdown",
   "metadata": {},
   "source": [
    "<p> Question C - 3 (5 points) </p>\n",
    "Predict - Split your dataset into train, test and predict the test values using your best performing model and your\n",
    "best hyperparameters"
   ]
  },
  {
   "cell_type": "code",
   "execution_count": 26,
   "metadata": {},
   "outputs": [
    {
     "name": "stderr",
     "output_type": "stream",
     "text": [
      "C:\\Users\\kangh\\Anaconda3\\lib\\site-packages\\sklearn\\utils\\validation.py:578: DataConversionWarning: A column-vector y was passed when a 1d array was expected. Please change the shape of y to (n_samples, ), for example using ravel().\n",
      "  y = column_or_1d(y, warn=True)\n",
      "C:\\Users\\kangh\\Anaconda3\\lib\\site-packages\\sklearn\\utils\\validation.py:578: DataConversionWarning: A column-vector y was passed when a 1d array was expected. Please change the shape of y to (n_samples, ), for example using ravel().\n",
      "  y = column_or_1d(y, warn=True)\n",
      "C:\\Users\\kangh\\Anaconda3\\lib\\site-packages\\sklearn\\utils\\validation.py:578: DataConversionWarning: A column-vector y was passed when a 1d array was expected. Please change the shape of y to (n_samples, ), for example using ravel().\n",
      "  y = column_or_1d(y, warn=True)\n",
      "C:\\Users\\kangh\\Anaconda3\\lib\\site-packages\\sklearn\\utils\\validation.py:578: DataConversionWarning: A column-vector y was passed when a 1d array was expected. Please change the shape of y to (n_samples, ), for example using ravel().\n",
      "  y = column_or_1d(y, warn=True)\n",
      "C:\\Users\\kangh\\Anaconda3\\lib\\site-packages\\sklearn\\utils\\validation.py:578: DataConversionWarning: A column-vector y was passed when a 1d array was expected. Please change the shape of y to (n_samples, ), for example using ravel().\n",
      "  y = column_or_1d(y, warn=True)\n",
      "C:\\Users\\kangh\\Anaconda3\\lib\\site-packages\\sklearn\\utils\\validation.py:578: DataConversionWarning: A column-vector y was passed when a 1d array was expected. Please change the shape of y to (n_samples, ), for example using ravel().\n",
      "  y = column_or_1d(y, warn=True)\n",
      "C:\\Users\\kangh\\Anaconda3\\lib\\site-packages\\sklearn\\utils\\validation.py:578: DataConversionWarning: A column-vector y was passed when a 1d array was expected. Please change the shape of y to (n_samples, ), for example using ravel().\n",
      "  y = column_or_1d(y, warn=True)\n",
      "C:\\Users\\kangh\\Anaconda3\\lib\\site-packages\\sklearn\\utils\\validation.py:578: DataConversionWarning: A column-vector y was passed when a 1d array was expected. Please change the shape of y to (n_samples, ), for example using ravel().\n",
      "  y = column_or_1d(y, warn=True)\n",
      "C:\\Users\\kangh\\Anaconda3\\lib\\site-packages\\sklearn\\utils\\validation.py:578: DataConversionWarning: A column-vector y was passed when a 1d array was expected. Please change the shape of y to (n_samples, ), for example using ravel().\n",
      "  y = column_or_1d(y, warn=True)\n",
      "C:\\Users\\kangh\\Anaconda3\\lib\\site-packages\\sklearn\\utils\\validation.py:578: DataConversionWarning: A column-vector y was passed when a 1d array was expected. Please change the shape of y to (n_samples, ), for example using ravel().\n",
      "  y = column_or_1d(y, warn=True)\n",
      "C:\\Users\\kangh\\Anaconda3\\lib\\site-packages\\sklearn\\utils\\validation.py:578: DataConversionWarning: A column-vector y was passed when a 1d array was expected. Please change the shape of y to (n_samples, ), for example using ravel().\n",
      "  y = column_or_1d(y, warn=True)\n"
     ]
    },
    {
     "name": "stdout",
     "output_type": "stream",
     "text": [
      "0.7158991338337442\n"
     ]
    }
   ],
   "source": [
    "My_Model_grid = linear_model.LogisticRegression(C=1,random_state=0)\n",
    "My_Model_grid.fit(X_train_log,y_train_log)\n",
    "test_prediction = My_Model_grid.predict(X_test_log)\n",
    "results = model_selection.cross_val_score(My_Model_grid, X_logistics, y_logistics, cv=kfold)\n",
    "print(results.mean())"
   ]
  },
  {
   "cell_type": "markdown",
   "metadata": {},
   "source": [
    "<p> Question C - 4 (5 points) </p>\n",
    "Results - Print a confusion matrix, precision and recall"
   ]
  },
  {
   "cell_type": "code",
   "execution_count": 27,
   "metadata": {},
   "outputs": [
    {
     "name": "stdout",
     "output_type": "stream",
     "text": [
      "[[22348     0     0 ...     0     0     0]\n",
      " [  114     0     0 ...     0     0     0]\n",
      " [   30     0     0 ...     0     0     0]\n",
      " ...\n",
      " [    5     0     0 ...     0     0     0]\n",
      " [   30     0     0 ...     0     0     0]\n",
      " [    4     0     0 ...     0     0     0]]\n",
      "[0.75484699 0.         0.         0.         0.         0.\n",
      " 0.         0.         0.         0.         0.         0.\n",
      " 0.45454545 0.         0.         0.         0.         0.55944527\n",
      " 0.         0.         0.         0.5        0.42857143 0.\n",
      " 0.         0.         0.         0.         0.         0.\n",
      " 0.         0.         0.        ]\n",
      "[0.91175391 0.         0.         0.         0.         0.\n",
      " 0.         0.         0.         0.         0.         0.\n",
      " 0.06666667 0.         0.         0.         0.         0.50193283\n",
      " 0.         0.         0.         0.0015456  0.01102941 0.\n",
      " 0.         0.         0.         0.         0.         0.\n",
      " 0.         0.         0.        ]\n"
     ]
    },
    {
     "name": "stderr",
     "output_type": "stream",
     "text": [
      "C:\\Users\\kangh\\Anaconda3\\lib\\site-packages\\sklearn\\metrics\\classification.py:1135: UndefinedMetricWarning: Precision and F-score are ill-defined and being set to 0.0 in labels with no predicted samples.\n",
      "  'precision', 'predicted', average, warn_for)\n"
     ]
    }
   ],
   "source": [
    "confusion = confusion_matrix(y_test_log,test_prediction)\n",
    "precision,recall,fscore,support = precision_recall_fscore_support(y_test_log,test_prediction)\n",
    "print(confusion)\n",
    "print(precision)\n",
    "print(recall)"
   ]
  }
 ],
 "metadata": {
  "kernelspec": {
   "display_name": "Python 3",
   "language": "python",
   "name": "python3"
  },
  "language_info": {
   "codemirror_mode": {
    "name": "ipython",
    "version": 3
   },
   "file_extension": ".py",
   "mimetype": "text/x-python",
   "name": "python",
   "nbconvert_exporter": "python",
   "pygments_lexer": "ipython3",
   "version": "3.6.8"
  },
  "widgets": {
   "state": {},
   "version": "1.1.2"
  }
 },
 "nbformat": 4,
 "nbformat_minor": 2
}
